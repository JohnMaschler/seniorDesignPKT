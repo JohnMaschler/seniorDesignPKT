{
 "cells": [
  {
   "cell_type": "code",
   "execution_count": 13,
   "metadata": {},
   "outputs": [
    {
     "name": "stdout",
     "output_type": "stream",
     "text": [
      "version of pandas\n"
     ]
    },
    {
     "ename": "AttributeError",
     "evalue": "module 'socket' has no attribute '__version__'",
     "output_type": "error",
     "traceback": [
      "\u001b[0;31m---------------------------------------------------------------------------\u001b[0m",
      "\u001b[0;31mAttributeError\u001b[0m                            Traceback (most recent call last)",
      "Cell \u001b[0;32mIn[13], line 5\u001b[0m\n\u001b[1;32m      1\u001b[0m \u001b[38;5;66;03m# pip install -r requirements.txt\u001b[39;00m\n\u001b[1;32m      2\u001b[0m \u001b[38;5;66;03m#print versions of libraries to include in requirements.txt\u001b[39;00m\n\u001b[1;32m      3\u001b[0m \u001b[38;5;66;03m# pandas == 1.5.3\u001b[39;00m\n\u001b[1;32m      4\u001b[0m \u001b[38;5;28mprint\u001b[39m(\u001b[38;5;124m\"\u001b[39m\u001b[38;5;124mversion of pandas\u001b[39m\u001b[38;5;124m\"\u001b[39m)\n\u001b[0;32m----> 5\u001b[0m \u001b[38;5;28mprint\u001b[39m(socket\u001b[38;5;241m.\u001b[39m__version__)\n",
      "\u001b[0;31mAttributeError\u001b[0m: module 'socket' has no attribute '__version__'"
     ]
    }
   ],
   "source": [
    "# pip install -r requirements.txt"
   ]
  },
  {
   "cell_type": "code",
   "execution_count": 14,
   "metadata": {},
   "outputs": [],
   "source": [
    "import dpkt\n",
    "import socket\n",
    "import pandas as pd\n",
    "\n",
    "# Initialize a list to store parsed packet data\n",
    "packet_data = []\n",
    "\n",
    "# Define the pcap file path\n",
    "pcap_filepath = \"../data/maccdc2012_00000.pcap\"\n",
    "\n",
    "# Open and read the pcap file\n",
    "with open(pcap_filepath, 'rb') as f:\n",
    "    pcap_reader = dpkt.pcap.Reader(f)\n",
    "    \n",
    "    for i, (ts, buf) in enumerate(pcap_reader):\n",
    "        # Parse Ethernet frame\n",
    "        eth = dpkt.ethernet.Ethernet(buf)\n",
    "        \n",
    "        # Check if packet contains IP data\n",
    "        if isinstance(eth.data, dpkt.ip.IP):\n",
    "            ip = eth.data\n",
    "            \n",
    "            # Check if IP data contains TCP/UDP data\n",
    "            if isinstance(ip.data, dpkt.tcp.TCP) or isinstance(ip.data, dpkt.udp.UDP):\n",
    "                transport_layer = ip.data\n",
    "                protocol = 'TCP' if isinstance(transport_layer, dpkt.tcp.TCP) else 'UDP'\n",
    "\n",
    "                # Extract fields and convert IPs to readable format\n",
    "                packet_info = {\n",
    "                    'timestamp': ts,\n",
    "                    'src_ip': socket.inet_ntoa(ip.src),\n",
    "                    'dst_ip': socket.inet_ntoa(ip.dst),\n",
    "                    'src_port': transport_layer.sport,\n",
    "                    'dst_port': transport_layer.dport,\n",
    "                    'protocol': protocol,\n",
    "                    'length': ip.len\n",
    "                }\n",
    "                \n",
    "                # Append to the packet_data list\n",
    "                packet_data.append(packet_info)\n",
    "        \n",
    "        # Break after a certain number of packets if needed\n",
    "        if i >= 10:  # Adjust as needed for more or fewer packets\n",
    "            break\n",
    "\n",
    "# Convert packet data to a DataFrame for easier analysis\n",
    "df = pd.DataFrame(packet_data)"
   ]
  },
  {
   "cell_type": "code",
   "execution_count": 16,
   "metadata": {},
   "outputs": [
    {
     "name": "stdout",
     "output_type": "stream",
     "text": [
      "      timestamp           src_ip           dst_ip  src_port  dst_port  \\\n",
      "0  1.331901e+09  192.168.229.254   192.168.202.79       443     46117   \n",
      "1  1.331901e+09   192.168.202.79  192.168.229.254     46117       443   \n",
      "2  1.331901e+09   192.168.202.79  192.168.229.251     50463        80   \n",
      "3  1.331901e+09  192.168.229.254   192.168.202.79       443     46117   \n",
      "4  1.331901e+09   192.168.202.79  192.168.229.251     50465        80   \n",
      "\n",
      "  protocol  length  \n",
      "0      TCP      99  \n",
      "1      TCP     251  \n",
      "2      TCP      52  \n",
      "3      TCP      52  \n",
      "4      TCP      60  \n",
      "--------------------\n",
      "          timestamp      src_port      dst_port      length\n",
      "count  1.100000e+01     11.000000     11.000000   11.000000\n",
      "mean   1.331901e+09  18599.363636  30232.818182  109.818182\n",
      "std    0.000000e+00  25416.063134  23818.626882   67.263390\n",
      "min    1.331901e+09     80.000000     80.000000   52.000000\n",
      "25%    1.331901e+09    443.000000    444.000000   56.000000\n",
      "50%    1.331901e+09    443.000000  46117.000000   99.000000\n",
      "75%    1.331901e+09  48290.000000  46117.000000  138.500000\n",
      "max    1.331901e+09  55173.000000  50465.000000  251.000000\n",
      "--------------------\n",
      "<class 'pandas.core.frame.DataFrame'>\n",
      "RangeIndex: 11 entries, 0 to 10\n",
      "Data columns (total 7 columns):\n",
      " #   Column     Non-Null Count  Dtype  \n",
      "---  ------     --------------  -----  \n",
      " 0   timestamp  11 non-null     float64\n",
      " 1   src_ip     11 non-null     object \n",
      " 2   dst_ip     11 non-null     object \n",
      " 3   src_port   11 non-null     int64  \n",
      " 4   dst_port   11 non-null     int64  \n",
      " 5   protocol   11 non-null     object \n",
      " 6   length     11 non-null     int64  \n",
      "dtypes: float64(1), int64(3), object(3)\n",
      "memory usage: 748.0+ bytes\n",
      "None\n"
     ]
    }
   ],
   "source": [
    "print(df.head())\n",
    "print(\"--------------------\")\n",
    "print(df.describe())\n",
    "print(\"--------------------\")\n",
    "print(df.info())"
   ]
  }
 ],
 "metadata": {
  "kernelspec": {
   "display_name": "Python (venv)",
   "language": "python",
   "name": "venv"
  },
  "language_info": {
   "codemirror_mode": {
    "name": "ipython",
    "version": 3
   },
   "file_extension": ".py",
   "mimetype": "text/x-python",
   "name": "python",
   "nbconvert_exporter": "python",
   "pygments_lexer": "ipython3",
   "version": "3.11.4"
  }
 },
 "nbformat": 4,
 "nbformat_minor": 2
}
